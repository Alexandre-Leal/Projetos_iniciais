{
 "cells": [
  {
   "cell_type": "code",
   "execution_count": 1,
   "metadata": {},
   "outputs": [],
   "source": [
    "import pandas as pd\n",
    "import numpy as np\n",
    "from statsmodels.stats.weightstats import ttest_ind, ztest\n",
    "from scipy.stats import norm\n",
    "from scipy.stats import t as t_student\n",
    "import matplotlib.pyplot as plt\n",
    "import seaborn as sns"
   ]
  },
  {
   "cell_type": "code",
   "execution_count": 2,
   "metadata": {},
   "outputs": [
    {
     "data": {
      "text/html": [
       "<div>\n",
       "<style scoped>\n",
       "    .dataframe tbody tr th:only-of-type {\n",
       "        vertical-align: middle;\n",
       "    }\n",
       "\n",
       "    .dataframe tbody tr th {\n",
       "        vertical-align: top;\n",
       "    }\n",
       "\n",
       "    .dataframe thead th {\n",
       "        text-align: right;\n",
       "    }\n",
       "</style>\n",
       "<table border=\"1\" class=\"dataframe\">\n",
       "  <thead>\n",
       "    <tr style=\"text-align: right;\">\n",
       "      <th></th>\n",
       "      <th>UF</th>\n",
       "      <th>Sexo</th>\n",
       "      <th>Idade</th>\n",
       "      <th>Cor</th>\n",
       "      <th>Anos de Estudo</th>\n",
       "      <th>Renda</th>\n",
       "      <th>Altura</th>\n",
       "    </tr>\n",
       "  </thead>\n",
       "  <tbody>\n",
       "    <tr>\n",
       "      <th>0</th>\n",
       "      <td>11</td>\n",
       "      <td>0</td>\n",
       "      <td>23</td>\n",
       "      <td>8</td>\n",
       "      <td>12</td>\n",
       "      <td>800</td>\n",
       "      <td>1.603808</td>\n",
       "    </tr>\n",
       "    <tr>\n",
       "      <th>1</th>\n",
       "      <td>11</td>\n",
       "      <td>1</td>\n",
       "      <td>23</td>\n",
       "      <td>2</td>\n",
       "      <td>12</td>\n",
       "      <td>1150</td>\n",
       "      <td>1.739790</td>\n",
       "    </tr>\n",
       "    <tr>\n",
       "      <th>2</th>\n",
       "      <td>11</td>\n",
       "      <td>1</td>\n",
       "      <td>35</td>\n",
       "      <td>8</td>\n",
       "      <td>15</td>\n",
       "      <td>880</td>\n",
       "      <td>1.760444</td>\n",
       "    </tr>\n",
       "    <tr>\n",
       "      <th>3</th>\n",
       "      <td>11</td>\n",
       "      <td>0</td>\n",
       "      <td>46</td>\n",
       "      <td>2</td>\n",
       "      <td>6</td>\n",
       "      <td>3500</td>\n",
       "      <td>1.783158</td>\n",
       "    </tr>\n",
       "    <tr>\n",
       "      <th>4</th>\n",
       "      <td>11</td>\n",
       "      <td>1</td>\n",
       "      <td>47</td>\n",
       "      <td>8</td>\n",
       "      <td>9</td>\n",
       "      <td>150</td>\n",
       "      <td>1.690631</td>\n",
       "    </tr>\n",
       "  </tbody>\n",
       "</table>\n",
       "</div>"
      ],
      "text/plain": [
       "   UF  Sexo  Idade  Cor  Anos de Estudo  Renda    Altura\n",
       "0  11     0     23    8              12    800  1.603808\n",
       "1  11     1     23    2              12   1150  1.739790\n",
       "2  11     1     35    8              15    880  1.760444\n",
       "3  11     0     46    2               6   3500  1.783158\n",
       "4  11     1     47    8               9    150  1.690631"
      ]
     },
     "execution_count": 2,
     "metadata": {},
     "output_type": "execute_result"
    }
   ],
   "source": [
    "    # Dataset\n",
    "    dataset = 'pnad_2015.csv'\n",
    "    \n",
    "    df = pd.read_csv(dataset)\n",
    "    df.head()"
   ]
  },
  {
   "cell_type": "markdown",
   "metadata": {},
   "source": [
    "## Cálculo de parâmetros"
   ]
  },
  {
   "cell_type": "code",
   "execution_count": 39,
   "metadata": {},
   "outputs": [],
   "source": [
    "n_M, n_H = 500, 500\n",
    "\n",
    "significancia = 0.01\n",
    "confianca = 1 - significancia\n",
    "\n",
    "n = n_M + n_H\n",
    "\n",
    "amostra_H = df[df.Sexo == 0]['Renda'].sample(n = n_H, random_state = 1)\n",
    "amostra_M = df[df.Sexo == 1]['Renda'].sample(n = n_M, random_state = 1)\n",
    "\n",
    "media_H = amostra_H.mean()\n",
    "media_M = amostra_M.mean()\n",
    "\n",
    "media_pop_H = df[df.Sexo == 0]['Renda'].mean()\n",
    "media_pop_M = df[df.Sexo == 1]['Renda'].mean()\n",
    "\n",
    "desvio_H = amostra_H.std()\n",
    "desvio_M = amostra_M.std()"
   ]
  },
  {
   "cell_type": "markdown",
   "metadata": {},
   "source": [
    "## Formulando algumas hipóteses para o problema"
   ]
  },
  {
   "cell_type": "markdown",
   "metadata": {},
   "source": [
    "\n",
    "> Teste Bicaudal\n",
    "\n",
    "> $H_0$: A Média salarial dos homens é igual a média salarial das mulheres\n",
    "\n",
    "> $H_1$ As médias são diferentes\n",
    "\n",
    "$\\begin{cases}\n",
    "H_0: \\mu_M = \\mu_H \\\\\n",
    "H_1: \\mu_M \\neq \\mu_H\n",
    "\\end{cases}\n",
    "$\n",
    "\n",
    "> Sendo $H_0$ a hipótese nula e $H_1$ a hipótese alternativa\n"
   ]
  },
  {
   "cell_type": "markdown",
   "metadata": {},
   "source": [
    "## Realizando teste da hipótese nula"
   ]
  },
  {
   "cell_type": "markdown",
   "metadata": {},
   "source": [
    "Testando as hipóteses\n",
    "\n",
    "> Teste Bicaudal\n",
    "\n",
    "> 1. Rejeita-se $H_0$ se $z \\leq -z{\\alpha / 2}$ ou se $z \\geq z_{\\alpha / 2}$ \n",
    "> 2. Rejeita-se $H_0$ se o valor de $p <\\alpha$"
   ]
  },
  {
   "cell_type": "code",
   "execution_count": 11,
   "metadata": {},
   "outputs": [
    {
     "data": {
      "text/plain": [
       "2.5758293035489004"
      ]
     },
     "execution_count": 11,
     "metadata": {},
     "output_type": "execute_result"
    }
   ],
   "source": [
    "# Z_alpha para bicaudal\n",
    "\n",
    "probabilidade = confianca + significancia / 2\n",
    "\n",
    "z_alpha = norm.ppf(probabilidade)\n",
    "\n",
    "z_alpha2 = norm.ppf(1 - probabilidade)\n",
    "z_alpha"
   ]
  },
  {
   "cell_type": "code",
   "execution_count": 12,
   "metadata": {},
   "outputs": [
    {
     "name": "stdout",
     "output_type": "stream",
     "text": [
      "z = 3.323321032265407 e p = 0.0008895248005648503\n",
      "t = 2.5856978351416706\n"
     ]
    }
   ],
   "source": [
    "# Ztest\n",
    "graus_de_liberdade = n = 500\n",
    "\n",
    "# Two-sided -> Bicaudal\n",
    "z, p = ztest(amostra_H, amostra_M, alternative = 'two-sided')\n",
    "print (f'z = {z} e p = {p}')\n",
    "\n",
    "t = t_student.ppf(probabilidade, graus_de_liberdade)\n",
    "print (f't = {t}')"
   ]
  },
  {
   "cell_type": "markdown",
   "metadata": {},
   "source": [
    "### Testando 1 e 2"
   ]
  },
  {
   "cell_type": "code",
   "execution_count": 16,
   "metadata": {},
   "outputs": [
    {
     "name": "stdout",
     "output_type": "stream",
     "text": [
      "A hipótese alternativa está correta com 99% de confiança.\n"
     ]
    }
   ],
   "source": [
    "if z >= z_alpha or z <= z_alpha2: # Teste 1\n",
    "    print(f'A hipótese alternativa está correta com {confianca:.0%} de confiança.')\n",
    "else:\n",
    "    if p < significancia: # Teste 2\n",
    "        print(f'A hipótese nula está correta com {confianca:.0%} de confiança.')\n",
    "    else:\n",
    "        print(f'A hipótese alternativa está correta com {confianca:.0%} de confiança.')"
   ]
  },
  {
   "cell_type": "markdown",
   "metadata": {},
   "source": [
    "Dessa maneira, nossa hipótese nula aparenta estar correta com uma confiança de 99%. Isso que dizer que as médias salariais muito provavelmente possuem médias diferentes. Dessa forma, resta analisar para que lado tende essa diferença e se possível tentar metrificá-la.\n",
    "\n",
    "Para isso será preciso analisar de forma unicaudal o problema, sendo que temos duas distribuições unicaudais possíveis, uma com a média das mulheres sendo maiores e outra com a média dos homens sendo maiores. Como:\n",
    "\n",
    "$\\begin{cases}\n",
    "\\mu_H = 2059.212 \\\\\n",
    "\\mu_M = 1548.274\n",
    "\\end{cases}\n",
    "$\n",
    "\n",
    "Sendo assim, \n",
    "\n",
    "$\n",
    "\\mu_H >= \\mu_M \\\\\n",
    "$\n",
    "\n",
    "Dessa maneira irei realizar o teste estatístico considerando as hipóteses a seguir:\n",
    "$\\begin{cases}\n",
    "H_0: \\mu_M =< \\mu_H \\\\\n",
    "H_1: \\mu_H > \\mu_M\n",
    "\\end{cases}\n",
    "$"
   ]
  },
  {
   "cell_type": "code",
   "execution_count": 33,
   "metadata": {},
   "outputs": [
    {
     "data": {
      "text/plain": [
       "(2.3263478740408408, -2.3263478740408408)"
      ]
     },
     "execution_count": 33,
     "metadata": {},
     "output_type": "execute_result"
    }
   ],
   "source": [
    "# Z_alpha para unicaudal\n",
    "probabilidade = confianca\n",
    "\n",
    "z_alpha = norm.ppf(probabilidade)\n",
    "\n",
    "z_alpha2 = norm.ppf(1 - probabilidade)\n",
    "z_alpha, z_alpha2"
   ]
  },
  {
   "cell_type": "code",
   "execution_count": 37,
   "metadata": {},
   "outputs": [
    {
     "name": "stdout",
     "output_type": "stream",
     "text": [
      "z = 3.323321032265407 e p = 0.9995552375997175\n",
      "t = 2.333828955352198\n"
     ]
    }
   ],
   "source": [
    "# Ztest\n",
    "graus_de_liberdade = n = 500\n",
    "\n",
    "# Two-sided -> Unicaudal\n",
    "z, p = ztest(amostra_H, amostra_M, alternative = 'smaller')\n",
    "print (f'z = {z} e p = {p}')\n",
    "\n",
    "t = t_student.ppf(probabilidade, graus_de_liberdade)\n",
    "print (f't = {t}')"
   ]
  },
  {
   "cell_type": "markdown",
   "metadata": {},
   "source": [
    "### Testando 1 e 2"
   ]
  },
  {
   "cell_type": "code",
   "execution_count": 40,
   "metadata": {},
   "outputs": [
    {
     "name": "stdout",
     "output_type": "stream",
     "text": [
      "A hipótese alternativa está correta com 99% de confiança.\n"
     ]
    }
   ],
   "source": [
    "if z <= z_alpha: # Teste 1\n",
    "    print(f'A hipótese alternativa está correta com {confianca:.0%} de confiança.')\n",
    "else:\n",
    "    if p < significancia: # Teste 2\n",
    "        print(f'A hipótese nula está correta com {confianca:.0%} de confiança.')\n",
    "    else:\n",
    "        print(f'A hipótese alternativa está correta com {confianca:.0%} de confiança.')"
   ]
  },
  {
   "cell_type": "markdown",
   "metadata": {},
   "source": [
    "Dessa maneira chegamos a conclusão de que com uma confiança de 99% podemos afirmar que a média salarial dos homens é maior do que a média salarial das mulheres. Ou seja, que a nossa Hipótese Nula era verdadeira."
   ]
  },
  {
   "cell_type": "code",
   "execution_count": 42,
   "metadata": {},
   "outputs": [
    {
     "data": {
      "text/plain": [
       "(2059.212, 1548.274, 2192.4415962441312, 1566.84739296312)"
      ]
     },
     "execution_count": 42,
     "metadata": {},
     "output_type": "execute_result"
    }
   ],
   "source": [
    "media_H, media_M ,media_pop_H, media_pop_M"
   ]
  },
  {
   "cell_type": "code",
   "execution_count": null,
   "metadata": {},
   "outputs": [],
   "source": []
  }
 ],
 "metadata": {
  "interpreter": {
   "hash": "650118ab0f1746476f217b0ac5f827f32f72b6d69704162cc527a2c6a7bc31b9"
  },
  "kernelspec": {
   "display_name": "Python 3.7.11 64-bit ('base': conda)",
   "language": "python",
   "name": "python3"
  },
  "language_info": {
   "codemirror_mode": {
    "name": "ipython",
    "version": 3
   },
   "file_extension": ".py",
   "mimetype": "text/x-python",
   "name": "python",
   "nbconvert_exporter": "python",
   "pygments_lexer": "ipython3",
   "version": "3.9.2"
  },
  "orig_nbformat": 4
 },
 "nbformat": 4,
 "nbformat_minor": 2
}
